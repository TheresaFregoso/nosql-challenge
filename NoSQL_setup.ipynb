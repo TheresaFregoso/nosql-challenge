{
 "cells": [
  {
   "cell_type": "markdown",
   "id": "9a57c4c6",
   "metadata": {},
   "source": [
    "# Eat Safe, Love"
   ]
  },
  {
   "cell_type": "markdown",
   "id": "064ef857",
   "metadata": {},
   "source": [
    "## Part 1: Database and Jupyter Notebook Set Up"
   ]
  },
  {
   "cell_type": "markdown",
   "id": "664e3c1f",
   "metadata": {},
   "source": [
    "Import the data provided in the `establishments.json` file from your Terminal. Name the database `uk_food` and the collection `establishments`.\n",
    "\n"
   ]
  },
  {
   "cell_type": "code",
   "execution_count": 54,
   "id": "3ecdd008",
   "metadata": {},
   "outputs": [],
   "source": [
    "# Import dependencies\n",
    "from pymongo import MongoClient\n",
    "from pprint import pp\n",
    "import json"
   ]
  },
  {
   "cell_type": "markdown",
   "id": "b48be9cc",
   "metadata": {},
   "source": [
    "Import the dataset with \n",
    "```bash\n",
    "mongoimport --type json -d uk_food -c establishments --drop --jsonArray establishments.json\n",
    "```"
   ]
  },
  {
   "cell_type": "code",
   "execution_count": 55,
   "id": "59390c4a",
   "metadata": {},
   "outputs": [],
   "source": [
    "# Create an instance of MongoClient\n",
    "mongo = MongoClient(port=27017)\n"
   ]
  },
  {
   "cell_type": "code",
   "execution_count": 56,
   "id": "7f9ececa",
   "metadata": {},
   "outputs": [
    {
     "name": "stdout",
     "output_type": "stream",
     "text": [
      "['admin', 'autosaurus', 'classDB', 'config', 'epa', 'establishments', 'fruits_db', 'local', 'met', 'petsitly_marketing', 'travel_db', 'uk_food']\n"
     ]
    }
   ],
   "source": [
    "# confirm that our new database was created\n",
    "print(mongo.list_database_names())\n"
   ]
  },
  {
   "cell_type": "code",
   "execution_count": 57,
   "id": "71e373c1",
   "metadata": {},
   "outputs": [],
   "source": [
    "# assign the uk_food database to a variable name\n",
    "uk_food = mongo['uk_food']"
   ]
  },
  {
   "cell_type": "code",
   "execution_count": 58,
   "id": "ef1b89ed",
   "metadata": {},
   "outputs": [
    {
     "name": "stdout",
     "output_type": "stream",
     "text": [
      "['establishments']\n"
     ]
    }
   ],
   "source": [
    "# review the collections in our new database\n",
    "print(uk_food.list_collection_names())\n"
   ]
  },
  {
   "cell_type": "code",
   "execution_count": 59,
   "id": "6a0d92df",
   "metadata": {},
   "outputs": [
    {
     "name": "stdout",
     "output_type": "stream",
     "text": [
      "{'_id': ObjectId('66a869e04c4875b3d700a5e8'),\n",
      " 'FHRSID': 1290215,\n",
      " 'ChangesByServerID': 0,\n",
      " 'LocalAuthorityBusinessID': 'PI/000083029',\n",
      " 'BusinessName': 'FirstLight Bar & Café',\n",
      " 'BusinessType': 'Restaurant/Cafe/Canteen',\n",
      " 'BusinessTypeID': 1,\n",
      " 'AddressLine1': '1 The Droveway',\n",
      " 'AddressLine2': 'St Margarets Bay',\n",
      " 'AddressLine3': 'Kent',\n",
      " 'AddressLine4': '',\n",
      " 'PostCode': 'CT15 6DH',\n",
      " 'Phone': '',\n",
      " 'RatingValue': '5',\n",
      " 'RatingKey': 'fhrs_5_en-gb',\n",
      " 'RatingDate': '2020-11-09T00:00:00',\n",
      " 'LocalAuthorityCode': '182',\n",
      " 'LocalAuthorityName': 'Dover',\n",
      " 'LocalAuthorityWebSite': 'http://www.dover.gov.uk/',\n",
      " 'LocalAuthorityEmailAddress': 'publicprotection@dover.gov.uk',\n",
      " 'scores': {'Hygiene': 5, 'Structural': 5, 'ConfidenceInManagement': 5},\n",
      " 'SchemeType': 'FHRS',\n",
      " 'geocode': {'longitude': '1.378231', 'latitude': '51.150625'},\n",
      " 'RightToReply': '',\n",
      " 'Distance': 4587.64041272672,\n",
      " 'NewRatingPending': False,\n",
      " 'meta': {'dataSource': None,\n",
      "          'extractDate': '0001-01-01T00:00:00',\n",
      "          'itemCount': 0,\n",
      "          'returncode': None,\n",
      "          'totalCount': 0,\n",
      "          'totalPages': 0,\n",
      "          'pageSize': 0,\n",
      "          'pageNumber': 0},\n",
      " 'links': [{'rel': 'self',\n",
      "            'href': 'https://api.ratings.food.gov.uk/establishments/1290215'}]}\n"
     ]
    }
   ],
   "source": [
    "# review a document in the establishments collection\n",
    "establishments_docs = uk_food.establishments.find_one()\n",
    "\n",
    "# Print one document\n",
    "pp(establishments_docs)"
   ]
  },
  {
   "cell_type": "code",
   "execution_count": 60,
   "id": "11c9f11b",
   "metadata": {},
   "outputs": [],
   "source": [
    "# assign the collection to a variable\n",
    "establishments = uk_food['establishments']"
   ]
  },
  {
   "cell_type": "markdown",
   "id": "d5671434",
   "metadata": {},
   "source": [
    "## Part 2: Update the Database"
   ]
  },
  {
   "cell_type": "markdown",
   "id": "314bd884",
   "metadata": {},
   "source": [
    "1. An exciting new halal restaurant just opened in Greenwich, but hasn't been rated yet. The magazine has asked you to include it in your analysis. Add the following restaurant \"Penang Flavours\" to the database."
   ]
  },
  {
   "cell_type": "code",
   "execution_count": 61,
   "id": "c2da7648",
   "metadata": {},
   "outputs": [
    {
     "data": {
      "text/plain": [
       "InsertOneResult(ObjectId('66a86a38affd1eea48935cd3'), acknowledged=True)"
      ]
     },
     "execution_count": 61,
     "metadata": {},
     "output_type": "execute_result"
    }
   ],
   "source": [
    "# Create a dictionary for the new restaurant data\n",
    "uk_food.establishments.insert_one(\n",
    "    {\n",
    "    \"BusinessName\":\"Penang Flavours\",\n",
    "    \"BusinessType\":\"Restaurant/Cafe/Canteen\",\n",
    "    \"BusinessTypeID\":\"\",\n",
    "    \"AddressLine1\":\"Penang Flavours\",\n",
    "    \"AddressLine2\":\"146A Plumstead Rd\",\n",
    "    \"AddressLine3\":\"London\",\n",
    "    \"AddressLine4\":\"\",\n",
    "    \"PostCode\":\"SE18 7DY\",\n",
    "    \"Phone\":\"\",\n",
    "    \"LocalAuthorityCode\":\"511\",\n",
    "    \"LocalAuthorityName\":\"Greenwich\",\n",
    "    \"LocalAuthorityWebSite\":\"http://www.royalgreenwich.gov.uk\",\n",
    "    \"LocalAuthorityEmailAddress\":\"health@royalgreenwich.gov.uk\",\n",
    "    \"scores\":{\n",
    "        \"Hygiene\":\"\",\n",
    "        \"Structural\":\"\",\n",
    "        \"ConfidenceInManagement\":\"\"\n",
    "    },\n",
    "    \"SchemeType\":\"FHRS\",\n",
    "    \"geocode\":{\n",
    "        \"longitude\":\"0.08384000\",\n",
    "        \"latitude\":\"51.49014200\"\n",
    "    },\n",
    "    \"RightToReply\":\"\",\n",
    "    \"Distance\":4623.9723280747176,\n",
    "    \"NewRatingPending\":True\n",
    "    }       \n",
    ")"
   ]
  },
  {
   "cell_type": "markdown",
   "id": "0ef4395a",
   "metadata": {},
   "source": [
    "2. Find the BusinessTypeID for \"Restaurant/Cafe/Canteen\" and return only the `BusinessTypeID` and `BusinessType` fields."
   ]
  },
  {
   "cell_type": "code",
   "execution_count": 62,
   "id": "93c63829",
   "metadata": {},
   "outputs": [
    {
     "name": "stdout",
     "output_type": "stream",
     "text": [
      "{'BusinessType': 'Restaurant/Cafe/Canteen', 'BusinessTypeID': 1}\n"
     ]
    }
   ],
   "source": [
    "# Find the BusinessTypeID for \"Restaurant/Cafe/Canteen\" and return only the BusinessTypeID and BusinessType fields\n",
    "query = {\"BusinessType\": \"Restaurant/Cafe/Canteen\"}\n",
    "fields = {\"BusinessTypeID\": 1, \"BusinessType\": 1, \"_id\": 0}  # _id:0 excludes the _id field\n",
    "\n",
    "# Find the document matching the query\n",
    "result = establishments.find_one(query, fields)\n",
    "\n",
    "# Print the result\n",
    "print(result)"
   ]
  },
  {
   "cell_type": "markdown",
   "id": "4e570caf",
   "metadata": {},
   "source": [
    "3. Update the new restaurant with the `BusinessTypeID` you found."
   ]
  },
  {
   "cell_type": "code",
   "execution_count": 63,
   "id": "7f599f3d",
   "metadata": {},
   "outputs": [],
   "source": [
    "# Update the new restaurant with the correct BusinessTypeID\n",
    "# Define the filter to find the restaurant\n",
    "filter = {\"BusinessName\": \"Penang Flavours\"}\n",
    "\n",
    "# Define the update operation to change the BusinessTypeID\n",
    "new_business_type_id = 1  # update with the new BusinessTypeID\n",
    "update = {\"$set\": {\"BusinessTypeID\": new_business_type_id}}\n",
    "\n",
    "# Update the document\n",
    "update_result = establishments.update_one(filter, update)"
   ]
  },
  {
   "cell_type": "code",
   "execution_count": 64,
   "id": "a6ad16f7",
   "metadata": {},
   "outputs": [
    {
     "name": "stdout",
     "output_type": "stream",
     "text": [
      "Updated BusinessTypeID for 1 restaurant(s).\n",
      "Total number of documents in the collection: 39780\n"
     ]
    }
   ],
   "source": [
    "# Confirm that the new restaurant was updated\n",
    "if update_result.matched_count > 0:\n",
    "    print(f\"Updated BusinessTypeID for {update_result.modified_count} restaurant(s).\")\n",
    "else:\n",
    "    print(\"No matching restaurant found.\")\n",
    "    \n",
    "#count total documents\n",
    "total_count = establishments.count_documents({})\n",
    "\n",
    "# Print the total count using pprint\n",
    "print(f\"Total number of documents in the collection: {total_count}\")"
   ]
  },
  {
   "cell_type": "markdown",
   "id": "67281254",
   "metadata": {},
   "source": [
    "4. The magazine is not interested in any establishments in Dover, so check how many documents contain the Dover Local Authority. Then, remove any establishments within the Dover Local Authority from the database, and check the number of documents to ensure they were deleted."
   ]
  },
  {
   "cell_type": "code",
   "execution_count": 65,
   "id": "768474a6",
   "metadata": {},
   "outputs": [
    {
     "name": "stdout",
     "output_type": "stream",
     "text": [
      "Number of documents in result (Dover Local Authority): 994\n"
     ]
    }
   ],
   "source": [
    "# Find how many documents have LocalAuthorityName as \"Dover\"\n",
    "query = {\"LocalAuthorityName\": \"Dover\"}\n",
    "print(\"Number of documents in result (Dover Local Authority):\", establishments.count_documents(query))"
   ]
  },
  {
   "cell_type": "code",
   "execution_count": 66,
   "id": "a11d5f1b",
   "metadata": {},
   "outputs": [
    {
     "data": {
      "text/plain": [
       "DeleteResult({'n': 994, 'ok': 1.0}, acknowledged=True)"
      ]
     },
     "execution_count": 66,
     "metadata": {},
     "output_type": "execute_result"
    }
   ],
   "source": [
    "# Delete all documents where LocalAuthorityName is \"Dover\"\n",
    "uk_food.establishments.delete_many(\n",
    "    {\"LocalAuthorityName\": \"Dover\"}\n",
    ")\n"
   ]
  },
  {
   "cell_type": "code",
   "execution_count": 67,
   "id": "2a51aba0",
   "metadata": {},
   "outputs": [
    {
     "name": "stdout",
     "output_type": "stream",
     "text": [
      "Number of documents in result (Dover Local Authority): 0\n"
     ]
    }
   ],
   "source": [
    "# Check if any remaining documents include Dover\n",
    "query = {\"LocalAuthorityName\": \"Dover\"}\n",
    "print(\"Number of documents in result (Dover Local Authority):\", establishments.count_documents(query))"
   ]
  },
  {
   "cell_type": "code",
   "execution_count": 68,
   "id": "8c356f7b",
   "metadata": {},
   "outputs": [
    {
     "name": "stdout",
     "output_type": "stream",
     "text": [
      "{'_id': ObjectId('66a869e04c4875b3d700a8cd'),\n",
      " 'FHRSID': 1043695,\n",
      " 'ChangesByServerID': 0,\n",
      " 'LocalAuthorityBusinessID': 'PI/000073616',\n",
      " 'BusinessName': 'The Pavilion',\n",
      " 'BusinessType': 'Restaurant/Cafe/Canteen',\n",
      " 'BusinessTypeID': 1,\n",
      " 'AddressLine1': 'East Cliff Pavilion',\n",
      " 'AddressLine2': 'Wear Bay Road',\n",
      " 'AddressLine3': 'Folkestone',\n",
      " 'AddressLine4': 'Kent',\n",
      " 'PostCode': 'CT19 6BL',\n",
      " 'Phone': '',\n",
      " 'RatingValue': '5',\n",
      " 'RatingKey': 'fhrs_5_en-gb',\n",
      " 'RatingDate': '2018-04-04T00:00:00',\n",
      " 'LocalAuthorityCode': '188',\n",
      " 'LocalAuthorityName': 'Folkestone and Hythe',\n",
      " 'LocalAuthorityWebSite': 'http://www.folkestone-hythe.gov.uk',\n",
      " 'LocalAuthorityEmailAddress': 'foodteam@folkestone-hythe.gov.uk',\n",
      " 'scores': {'Hygiene': 5, 'Structural': 5, 'ConfidenceInManagement': 5},\n",
      " 'SchemeType': 'FHRS',\n",
      " 'geocode': {'longitude': '1.195625', 'latitude': '51.083812'},\n",
      " 'RightToReply': '',\n",
      " 'Distance': 4591.765489457773,\n",
      " 'NewRatingPending': False,\n",
      " 'meta': {'dataSource': None,\n",
      "          'extractDate': '0001-01-01T00:00:00',\n",
      "          'itemCount': 0,\n",
      "          'returncode': None,\n",
      "          'totalCount': 0,\n",
      "          'totalPages': 0,\n",
      "          'pageSize': 0,\n",
      "          'pageNumber': 0},\n",
      " 'links': [{'rel': 'self',\n",
      "            'href': 'https://api.ratings.food.gov.uk/establishments/1043695'}]}\n"
     ]
    }
   ],
   "source": [
    "# Check that other documents remain with 'find_one'\n",
    "establishments_docs = uk_food.establishments.find_one()\n",
    "\n",
    "# Print one document\n",
    "pp(establishments_docs)"
   ]
  },
  {
   "attachments": {},
   "cell_type": "markdown",
   "id": "e9f1662d",
   "metadata": {},
   "source": [
    "5. Some of the number values are stored as strings, when they should be stored as numbers."
   ]
  },
  {
   "attachments": {},
   "cell_type": "markdown",
   "id": "c46df2df",
   "metadata": {},
   "source": [
    "Use `update_many` to convert `latitude` and `longitude` to decimal numbers."
   ]
  },
  {
   "cell_type": "code",
   "execution_count": 69,
   "id": "fd4112ce",
   "metadata": {},
   "outputs": [
    {
     "data": {
      "text/plain": [
       "UpdateResult({'n': 38786, 'nModified': 38786, 'ok': 1.0, 'updatedExisting': True}, acknowledged=True)"
      ]
     },
     "execution_count": 69,
     "metadata": {},
     "output_type": "execute_result"
    }
   ],
   "source": [
    "# Change the data type from String to Decimal for longitude and latitude\n",
    "establishments.update_many(\n",
    "    {},  # Empty filter to update all documents\n",
    "    [\n",
    "        {\n",
    "            '$set': {\n",
    "                \"geocode.longitude\": {\n",
    "                    '$convert': {\n",
    "                        'input': \"$geocode.longitude\",\n",
    "                        'to': \"decimal\",\n",
    "                        'onError': None,\n",
    "                        'onNull': None\n",
    "                    }\n",
    "                },\n",
    "                \"geocode.latitude\": {\n",
    "                    '$convert': {\n",
    "                        'input': \"$geocode.latitude\",\n",
    "                        'to': \"decimal\",\n",
    "                        'onError': None,\n",
    "                        'onNull': None\n",
    "                    }\n",
    "                }\n",
    "            }\n",
    "        }\n",
    "    ]\n",
    ")\n"
   ]
  },
  {
   "attachments": {},
   "cell_type": "markdown",
   "id": "142e319c",
   "metadata": {},
   "source": [
    "Use `update_many` to convert `RatingValue` to integer numbers."
   ]
  },
  {
   "cell_type": "code",
   "execution_count": 70,
   "id": "04430a5b",
   "metadata": {},
   "outputs": [
    {
     "data": {
      "text/plain": [
       "UpdateResult({'n': 4091, 'nModified': 4091, 'ok': 1.0, 'updatedExisting': True}, acknowledged=True)"
      ]
     },
     "execution_count": 70,
     "metadata": {},
     "output_type": "execute_result"
    }
   ],
   "source": [
    "# Set non 1-5 Rating Values to Null\n",
    "non_ratings = [\"AwaitingInspection\", \"Awaiting Inspection\", \"AwaitingPublication\", \"Pass\", \"Exempt\"]\n",
    "establishments.update_many({\"RatingValue\": {\"$in\": non_ratings}}, [ {'$set':{ \"RatingValue\" : None}} ])"
   ]
  },
  {
   "cell_type": "code",
   "execution_count": 71,
   "id": "92524ccc",
   "metadata": {},
   "outputs": [
    {
     "data": {
      "text/plain": [
       "UpdateResult({'n': 38786, 'nModified': 38786, 'ok': 1.0, 'updatedExisting': True}, acknowledged=True)"
      ]
     },
     "execution_count": 71,
     "metadata": {},
     "output_type": "execute_result"
    }
   ],
   "source": [
    "# Change the data type from String to Integer for RatingValue\n",
    "establishments.update_many(\n",
    "    {},  # Empty filter to update all documents\n",
    "    [\n",
    "        {\n",
    "            '$set': {\n",
    "                \"RatingValue\": {'$convert': {'input': \"$RatingValue\", 'to': \"int\", 'onError': 0, 'onNull': 0}}\n",
    "            }\n",
    "        }\n",
    "    ]\n",
    ")"
   ]
  },
  {
   "cell_type": "code",
   "execution_count": 72,
   "id": "0deacaf9",
   "metadata": {},
   "outputs": [
    {
     "name": "stdout",
     "output_type": "stream",
     "text": [
      "Document ID: 66a869e04c4875b3d700a8cd\n",
      "  RatingValue: 5, Type: <class 'int'>\n",
      "  Longitude: 1.195625, Type: <class 'bson.decimal128.Decimal128'>\n",
      "  Latitude: 51.083812, Type: <class 'bson.decimal128.Decimal128'>\n",
      "Document ID: 66a869e04c4875b3d700a8ce\n",
      "  RatingValue: 4, Type: <class 'int'>\n",
      "  Longitude: 1.196408, Type: <class 'bson.decimal128.Decimal128'>\n",
      "  Latitude: 51.086058, Type: <class 'bson.decimal128.Decimal128'>\n",
      "Document ID: 66a869e04c4875b3d700a8cf\n",
      "  RatingValue: 5, Type: <class 'int'>\n",
      "  Longitude: 1.194762, Type: <class 'bson.decimal128.Decimal128'>\n",
      "  Latitude: 51.085797, Type: <class 'bson.decimal128.Decimal128'>\n",
      "Document ID: 66a869e04c4875b3d700a8d2\n",
      "  RatingValue: 5, Type: <class 'int'>\n",
      "  Longitude: 1.188537, Type: <class 'bson.decimal128.Decimal128'>\n",
      "  Latitude: 51.08084, Type: <class 'bson.decimal128.Decimal128'>\n",
      "Document ID: 66a869e04c4875b3d700a8d3\n",
      "  RatingValue: 5, Type: <class 'int'>\n",
      "  Longitude: 1.188537, Type: <class 'bson.decimal128.Decimal128'>\n",
      "  Latitude: 51.08084, Type: <class 'bson.decimal128.Decimal128'>\n"
     ]
    }
   ],
   "source": [
    "# Check that the coordinates and rating value are now numbers\n",
    "# Retrieve a sample of documents to check the data type of RatingValue\n",
    "sample_documents = establishments.find({}, {\"RatingValue\": 1, \"geocode\": 1}).limit(5)\n",
    "# Limiting to 5 documents\n",
    "\n",
    "# Check and print the data type of RatingValue for each document\n",
    "for doc in sample_documents:\n",
    "    rating_value = doc.get(\"RatingValue\")\n",
    "    longitude = doc.get(\"geocode\", {}).get(\"longitude\")\n",
    "    latitude = doc.get(\"geocode\", {}).get(\"latitude\")\n",
    "    print(f\"Document ID: {doc['_id']}\")\n",
    "    print(f\"  RatingValue: {rating_value}, Type: {type(rating_value)}\")\n",
    "    print(f\"  Longitude: {longitude}, Type: {type(longitude)}\")\n",
    "    print(f\"  Latitude: {latitude}, Type: {type(latitude)}\")"
   ]
  }
 ],
 "metadata": {
  "kernelspec": {
   "display_name": "Python 3 (ipykernel)",
   "language": "python",
   "name": "python3"
  },
  "language_info": {
   "codemirror_mode": {
    "name": "ipython",
    "version": 3
   },
   "file_extension": ".py",
   "mimetype": "text/x-python",
   "name": "python",
   "nbconvert_exporter": "python",
   "pygments_lexer": "ipython3",
   "version": "3.12.3"
  }
 },
 "nbformat": 4,
 "nbformat_minor": 5
}
